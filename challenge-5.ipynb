{
  "cells": [
    {
      "cell_type": "markdown",
      "metadata": {
        "id": "d2tw01le53fJ"
      },
      "source": [
        "# Challenge 5 - RNNs\n",
        "\n",
        "Welcome to challenge #5!\n",
        "\n",
        "In this challenge, you will implement a simple RNN classifier using an LSTM cell for sentiment analysis on the YelpReviewPolarity dataset (a binary sentiment classification dataset).\n",
        "\n",
        "Your model should include:\n",
        "- An **Embedding** layer (with a specified `padding_idx`)\n",
        "- An **LSTM** layer (with `batch_first=True`)\n",
        "- A **Fully Connected (fc)** layer to map the final hidden state to the output\n",
        "- A **Sigmoid** activation to produce a probability between 0 and 1\n",
        "\n",
        "Your tasks are:\n",
        "\n",
        "1. **Data Preprocessing & DataLoader Setup** (2 points):  \n",
        "   Import the YelpReviewPolarity dataset, tokenize the text, build a vocabulary, and create a DataLoader to supply batches to your model.\n",
        "\n",
        "2. **RNNClassifier** (2 points):  \n",
        "   Implement a class that builds and returns the RNN classifier model using the parameters provided.\n",
        "\n",
        "3. **Training and evaluating the model** (2 points):  \n",
        "   Implement a function that takes your model and trains it over a number of epochs and then tests it with sample yelp reviews.\n",
        "\n",
        "4. **Q&A Section** (3 points total, 1 point each):  \n",
        "   Answer three questions (in markdown) about your implementation and key concepts.\n",
        "\n",
        "When you are finished, the provided pytest tests at the end of this notebook will automatically evaluate your code.\n",
        "\n",
        "\n",
        "## Important Note on Environment:\n",
        "This challenge will <span style=\"color: red\">not work properly on Codespaces</span> because of the lack of GPU and pytorch support (at least I haven't figured out the setup yet). So for this challenge, you will open your repository's notebook in Google Collab and continue. You can do so by clicking the \"Open in Collab\" badge below and opening this notebook from your repository there.\n",
        "\n",
        "<a href=\"https://colab.research.google.com/\" target=\"_parent\"><img src=\"https://colab.research.google.com/assets/colab-badge.svg\" alt=\"Open In Colab\"/></a>\n",
        "\n",
        "After completing the code part, please make sure to run the TESTING section of this notebook for the test cases. Again, the pytest on Github will fail. I shall manually enter your grades without the help of the autograder for this challenge referring to the test section at the end."
      ]
    },
    {
      "cell_type": "markdown",
      "metadata": {
        "id": "0Zp_qLXgifVK"
      },
      "source": [
        "## Imports and setup"
      ]
    },
    {
      "cell_type": "code",
      "execution_count": 1,
      "metadata": {
        "colab": {
          "base_uri": "https://localhost:8080/"
        },
        "id": "vY9WLiMdifVK",
        "outputId": "85f9308d-73b7-4f21-ee44-a67783f99a42"
      },
      "outputs": [
        {
          "output_type": "stream",
          "name": "stdout",
          "text": [
            "--2025-02-19 14:20:06--  https://drive.usercontent.google.com/download?id=0Bz8a_Dbh9QhbNUpYQ2N3SGlFaDg&export=download&authuser=0&confirm=t&uuid=08839d6e-0170-44f8-a1c1-2f829c484617&at=AIrpjvOJpeXNKY4yGqP9mw6bXpQS:1739966900676\n",
            "Resolving drive.usercontent.google.com (drive.usercontent.google.com)... 74.125.68.132, 2404:6800:4003:c02::84\n",
            "Connecting to drive.usercontent.google.com (drive.usercontent.google.com)|74.125.68.132|:443... connected.\n",
            "HTTP request sent, awaiting response... 200 OK\n",
            "Length: 166373322 (159M) [application/octet-stream]\n",
            "Saving to: ‘yelp_review_polarity_csv.tar’\n",
            "\n",
            "yelp_review_polarit 100%[===================>] 158.67M  48.3MB/s    in 3.3s    \n",
            "\n",
            "2025-02-19 14:20:11 (48.3 MB/s) - ‘yelp_review_polarity_csv.tar’ saved [166373322/166373322]\n",
            "\n",
            "yelp_review_polarity_csv/\n",
            "yelp_review_polarity_csv/readme.txt\n",
            "yelp_review_polarity_csv/test.csv\n",
            "yelp_review_polarity_csv/train.csv\n",
            "Requirement already satisfied: torchdata==0.6.1 in /usr/local/lib/python3.11/dist-packages (0.6.1)\n",
            "Requirement already satisfied: torchtext in /usr/local/lib/python3.11/dist-packages (0.15.2)\n",
            "Requirement already satisfied: portalocker==2.7.0 in /usr/local/lib/python3.11/dist-packages (2.7.0)\n",
            "Requirement already satisfied: urllib3>=1.25 in /usr/local/lib/python3.11/dist-packages (from torchdata==0.6.1) (2.3.0)\n",
            "Requirement already satisfied: requests in /usr/local/lib/python3.11/dist-packages (from torchdata==0.6.1) (2.32.3)\n",
            "Requirement already satisfied: torch==2.0.1 in /usr/local/lib/python3.11/dist-packages (from torchdata==0.6.1) (2.0.1)\n",
            "Requirement already satisfied: filelock in /usr/local/lib/python3.11/dist-packages (from torch==2.0.1->torchdata==0.6.1) (3.17.0)\n",
            "Requirement already satisfied: typing-extensions in /usr/local/lib/python3.11/dist-packages (from torch==2.0.1->torchdata==0.6.1) (4.12.2)\n",
            "Requirement already satisfied: sympy in /usr/local/lib/python3.11/dist-packages (from torch==2.0.1->torchdata==0.6.1) (1.13.1)\n",
            "Requirement already satisfied: networkx in /usr/local/lib/python3.11/dist-packages (from torch==2.0.1->torchdata==0.6.1) (3.4.2)\n",
            "Requirement already satisfied: jinja2 in /usr/local/lib/python3.11/dist-packages (from torch==2.0.1->torchdata==0.6.1) (3.1.5)\n",
            "Requirement already satisfied: nvidia-cuda-nvrtc-cu11==11.7.99 in /usr/local/lib/python3.11/dist-packages (from torch==2.0.1->torchdata==0.6.1) (11.7.99)\n",
            "Requirement already satisfied: nvidia-cuda-runtime-cu11==11.7.99 in /usr/local/lib/python3.11/dist-packages (from torch==2.0.1->torchdata==0.6.1) (11.7.99)\n",
            "Requirement already satisfied: nvidia-cuda-cupti-cu11==11.7.101 in /usr/local/lib/python3.11/dist-packages (from torch==2.0.1->torchdata==0.6.1) (11.7.101)\n",
            "Requirement already satisfied: nvidia-cudnn-cu11==8.5.0.96 in /usr/local/lib/python3.11/dist-packages (from torch==2.0.1->torchdata==0.6.1) (8.5.0.96)\n",
            "Requirement already satisfied: nvidia-cublas-cu11==11.10.3.66 in /usr/local/lib/python3.11/dist-packages (from torch==2.0.1->torchdata==0.6.1) (11.10.3.66)\n",
            "Requirement already satisfied: nvidia-cufft-cu11==10.9.0.58 in /usr/local/lib/python3.11/dist-packages (from torch==2.0.1->torchdata==0.6.1) (10.9.0.58)\n",
            "Requirement already satisfied: nvidia-curand-cu11==10.2.10.91 in /usr/local/lib/python3.11/dist-packages (from torch==2.0.1->torchdata==0.6.1) (10.2.10.91)\n",
            "Requirement already satisfied: nvidia-cusolver-cu11==11.4.0.1 in /usr/local/lib/python3.11/dist-packages (from torch==2.0.1->torchdata==0.6.1) (11.4.0.1)\n",
            "Requirement already satisfied: nvidia-cusparse-cu11==11.7.4.91 in /usr/local/lib/python3.11/dist-packages (from torch==2.0.1->torchdata==0.6.1) (11.7.4.91)\n",
            "Requirement already satisfied: nvidia-nccl-cu11==2.14.3 in /usr/local/lib/python3.11/dist-packages (from torch==2.0.1->torchdata==0.6.1) (2.14.3)\n",
            "Requirement already satisfied: nvidia-nvtx-cu11==11.7.91 in /usr/local/lib/python3.11/dist-packages (from torch==2.0.1->torchdata==0.6.1) (11.7.91)\n",
            "Requirement already satisfied: triton==2.0.0 in /usr/local/lib/python3.11/dist-packages (from torch==2.0.1->torchdata==0.6.1) (2.0.0)\n",
            "Requirement already satisfied: setuptools in /usr/local/lib/python3.11/dist-packages (from nvidia-cublas-cu11==11.10.3.66->torch==2.0.1->torchdata==0.6.1) (75.1.0)\n",
            "Requirement already satisfied: wheel in /usr/local/lib/python3.11/dist-packages (from nvidia-cublas-cu11==11.10.3.66->torch==2.0.1->torchdata==0.6.1) (0.45.1)\n",
            "Requirement already satisfied: cmake in /usr/local/lib/python3.11/dist-packages (from triton==2.0.0->torch==2.0.1->torchdata==0.6.1) (3.31.4)\n",
            "Requirement already satisfied: lit in /usr/local/lib/python3.11/dist-packages (from triton==2.0.0->torch==2.0.1->torchdata==0.6.1) (18.1.8)\n",
            "Requirement already satisfied: tqdm in /usr/local/lib/python3.11/dist-packages (from torchtext) (4.67.1)\n",
            "Requirement already satisfied: numpy in /usr/local/lib/python3.11/dist-packages (from torchtext) (1.26.4)\n",
            "Requirement already satisfied: charset-normalizer<4,>=2 in /usr/local/lib/python3.11/dist-packages (from requests->torchdata==0.6.1) (3.4.1)\n",
            "Requirement already satisfied: idna<4,>=2.5 in /usr/local/lib/python3.11/dist-packages (from requests->torchdata==0.6.1) (3.10)\n",
            "Requirement already satisfied: certifi>=2017.4.17 in /usr/local/lib/python3.11/dist-packages (from requests->torchdata==0.6.1) (2025.1.31)\n",
            "Requirement already satisfied: MarkupSafe>=2.0 in /usr/local/lib/python3.11/dist-packages (from jinja2->torch==2.0.1->torchdata==0.6.1) (3.0.2)\n",
            "Requirement already satisfied: mpmath<1.4,>=1.1.0 in /usr/local/lib/python3.11/dist-packages (from sympy->torch==2.0.1->torchdata==0.6.1) (1.3.0)\n"
          ]
        }
      ],
      "source": [
        "# Downloading the yelp review dataset\n",
        "!wget \"https://drive.usercontent.google.com/download?id=0Bz8a_Dbh9QhbNUpYQ2N3SGlFaDg&export=download&authuser=0&confirm=t&uuid=08839d6e-0170-44f8-a1c1-2f829c484617&at=AIrpjvOJpeXNKY4yGqP9mw6bXpQS:1739966900676\" -O yelp_review_polarity_csv.tar\n",
        "\n",
        "# Extracting the dataset\n",
        "!tar -xvf yelp_review_polarity_csv.tar\n",
        "\n",
        "# Downloading python package dependencies\n",
        "!pip install torchdata==0.6.1 torchtext portalocker==2.7.0"
      ]
    },
    {
      "cell_type": "code",
      "execution_count": 2,
      "metadata": {
        "colab": {
          "base_uri": "https://localhost:8080/"
        },
        "id": "R4rXSucpifVL",
        "outputId": "23c65cc2-8723-4386-82b7-5791c9c38882"
      },
      "outputs": [
        {
          "output_type": "execute_result",
          "data": {
            "text/plain": [
              "<torch._C.Generator at 0x7fc910395330>"
            ]
          },
          "metadata": {},
          "execution_count": 2
        }
      ],
      "source": [
        "import torch\n",
        "import torch.nn as nn\n",
        "from torch.utils.data import DataLoader, Dataset\n",
        "import torch.optim as optim\n",
        "from torch.nn.utils.rnn import pad_sequence\n",
        "from torchtext.datasets import YelpReviewPolarity\n",
        "from torchtext.data.utils import get_tokenizer\n",
        "from torchtext.vocab import build_vocab_from_iterator\n",
        "\n",
        "import csv\n",
        "\n",
        "# Set random seed for reproducibility.\n",
        "torch.manual_seed(42)"
      ]
    },
    {
      "cell_type": "markdown",
      "metadata": {
        "id": "_z3AQzyTifVM"
      },
      "source": [
        "## Task 1: Data Preprocessing (2 points)\n",
        "\n",
        "Note: the YelpReviewPolarity dataset label includes\n",
        "- 1 : Negative polarity.\n",
        "- 2 : Positive polarity.\n",
        "\n",
        "Refer the [pytorch docs](https://pytorch.org/text/0.8.1/datasets.html#yelpreviewpolarity) for the dataset for more info.\n",
        "\n",
        "The below code cell downloads the dataset and loads it for you."
      ]
    },
    {
      "cell_type": "code",
      "execution_count": 3,
      "metadata": {
        "colab": {
          "base_uri": "https://localhost:8080/"
        },
        "id": "JnxIoFUhifVM",
        "outputId": "0ac5cf74-460f-473d-d49f-f4e20e0beea7"
      },
      "outputs": [
        {
          "output_type": "stream",
          "name": "stdout",
          "text": [
            "Number of training examples: 50000\n",
            "Number of testing examples: 38000\n"
          ]
        }
      ],
      "source": [
        "def load_local_yelp_list(train_csv_path, test_csv_path, has_header=True, sample_size=50000):\n",
        "    \"\"\"\n",
        "    Reads the local train.csv and test.csv for Yelp Review Polarity\n",
        "    and returns two lists: train_list, test_list,\n",
        "    where each element is (label, text).\n",
        "    label is int (1 or 2), text is the review string.\n",
        "    \"\"\"\n",
        "    train_list = []\n",
        "    with open(train_csv_path, 'r', encoding='utf-8') as f:\n",
        "        reader = csv.reader(f)\n",
        "        if has_header:\n",
        "            next(reader, None)  # skip the header row\n",
        "        for row in reader:\n",
        "            if len(train_list) >= sample_size:\n",
        "                break\n",
        "            label_str, text = row\n",
        "            label = int(label_str)\n",
        "            train_list.append((label, text))\n",
        "\n",
        "    test_list = []\n",
        "    with open(test_csv_path, 'r', encoding='utf-8') as f:\n",
        "        reader = csv.reader(f)\n",
        "        if has_header:\n",
        "            next(reader, None)\n",
        "        for row in reader:\n",
        "            label_str, text = row\n",
        "            label = int(label_str)\n",
        "            test_list.append((label, text))\n",
        "\n",
        "    return train_list, test_list\n",
        "\n",
        "train_list, test_list = load_local_yelp_list('./yelp_review_polarity_csv/train.csv', './yelp_review_polarity_csv/test.csv', has_header=False)\n",
        "print(f\"Number of training examples: {len(train_list)}\")\n",
        "print(f\"Number of testing examples: {len(test_list)}\")"
      ]
    },
    {
      "cell_type": "code",
      "execution_count": 18,
      "metadata": {
        "colab": {
          "base_uri": "https://localhost:8080/"
        },
        "id": "2PF4OxyuifVM",
        "outputId": "0bcc4e64-5fab-4a36-eba2-b90efeb2be10"
      },
      "outputs": [
        {
          "output_type": "stream",
          "name": "stdout",
          "text": [
            "(1, \"Unfortunately, the frustration of being Dr. Goldberg's patient is a repeat of the experience I've had with so many other doctors in NYC -- good doctor, terrible staff.  It seems that his staff simply never answers the phone.  It usually takes 2 hours of repeated calling to get an answer.  Who has time for that or wants to deal with it?  I have run into this problem with many other doctors and I just don't get it.  You have office workers, you have patients with medical needs, why isn't anyone answering the phone?  It's incomprehensible and not work the aggravation.  It's with regret that I feel that I have to give Dr. Goldberg 2 stars.\")\n"
          ]
        }
      ],
      "source": [
        "\n",
        "# TODO: Define a tokenizer using torchtext's basic_english tokenizer.\n",
        "tokenizer = get_tokenizer(\"basic_english\")\n",
        "\n",
        "# TODO: Write a function 'yield_tokens' that takes the dataset iterator and yields tokens.\n",
        "\n",
        "\n",
        "def yield_tokens(data_iter):\n",
        "    for label, text in data_iter:\n",
        "      yield tokenizer(text)\n",
        "\n",
        "# TODO: Print the first datapoint from your train list\n",
        "print(train_list[0])\n",
        "\n",
        "# TODO: Build the vocabulary using 'build_vocab_from_iterator' with special tokens '<unk>' and '<pad>'.\n",
        "# Set the default index for unknown tokens to the index of '<unk>'.\n",
        "vocab = build_vocab_from_iterator(iterator = yield_tokens(train_list), specials= ['<unk>','<pad>'])  # Replace with your code\n",
        "\n",
        "# TODO: Define a text pipeline function that converts a text string into a list of token IDs using the vocabulary.\n",
        "def text_pipeline(text):\n",
        "    return [vocab[token] for token in tokenizer(text) if token in vocab]\n",
        "\n",
        "# TODO: Define a label pipeline function that converts the label (as a string) into an integer (e.g., 1 for positive, 0 for negative).\n",
        "def label_pipeline(label):\n",
        "    try:\n",
        "      return int(label) -1\n",
        "    except:\n",
        "      if label.lower() == 'positive':\n",
        "        return 1\n",
        "      elif label.lower() == 'negative':\n",
        "        return 0\n",
        "      else:\n",
        "        return -1\n",
        "    pass"
      ]
    },
    {
      "cell_type": "code",
      "execution_count": 19,
      "metadata": {
        "id": "qa8baoXrifVN"
      },
      "outputs": [],
      "source": [
        "# -------------------------\n",
        "# Create a custom Dataset and DataLoader\n",
        "# -------------------------\n",
        "class YelpDataset(Dataset):\n",
        "    def __init__(self, data_iter):\n",
        "        # TODO: Store the data and process it if necessary.\n",
        "        self.data = [\n",
        "            (torch.tensor(text_pipeline(text), dtype=torch.long), label_pipeline(label))\n",
        "            for label, text in data_iter\n",
        "        ]\n",
        "\n",
        "    def __len__(self):\n",
        "        return len(self.data)\n",
        "\n",
        "\n",
        "    def __getitem__(self, idx):\n",
        "        return self.data[idx]\n",
        "\n",
        "# TODO: Create a collate function that pads sequences in a batch.\n",
        "def collate_batch(batch):\n",
        "    text_batch, label_batch = zip(*batch)  # Separate text and labels\n",
        "    text_batch = pad_sequence(text_batch, batch_first=True, padding_value=vocab[\"<pad>\"])\n",
        "    label_batch = torch.tensor(label_batch, dtype=torch.long)\n",
        "    return text_batch, label_batch\n",
        "\n",
        "# TODO: Create a DataLoader for the training data.\n",
        "batch_size = 32\n",
        "train_dataset = YelpDataset(train_list)   # Replace with your code to create an instance of YelpDataset.\n",
        "train_loader = DataLoader(train_dataset, batch_size=batch_size, shuffle=True, collate_fn=collate_batch)  # Replace with your code to create a DataLoader using collate_batch."
      ]
    },
    {
      "cell_type": "markdown",
      "metadata": {
        "id": "q0yRB1VYifVN"
      },
      "source": [
        "## Task 2: Build the RNN Classifier (2 points)"
      ]
    },
    {
      "cell_type": "code",
      "execution_count": 20,
      "metadata": {
        "id": "lki6BruYifVN"
      },
      "outputs": [],
      "source": [
        "class RNNClassifier(nn.Module):\n",
        "    def __init__(self, vocab_size: int, embed_dim: int, hidden_dim: int, output_dim: int, num_layers: int, padding_idx: int):\n",
        "        super(RNNClassifier, self).__init__()\n",
        "\n",
        "        # Create an Embedding layer\n",
        "        self.embedding = nn.Embedding(num_embeddings=vocab_size, embedding_dim=embed_dim, padding_idx=padding_idx)\n",
        "\n",
        "        # Create an LSTM layer\n",
        "        self.lstm = nn.LSTM(input_size=embed_dim, hidden_size=hidden_dim, num_layers=num_layers,\n",
        "                            batch_first=True, bidirectional=False)  # Single-directional LSTM\n",
        "\n",
        "        # Create a fully connected layer mapping hidden_dim to output_dim\n",
        "        self.fc = nn.Linear(hidden_dim, output_dim)\n",
        "\n",
        "        # Create a Sigmoid activation for binary classification\n",
        "        self.sigmoid = nn.Sigmoid()\n",
        "\n",
        "    def forward(self, text):\n",
        "        # Convert token IDs into embeddings\n",
        "        embedded = self.embedding(text)  # [batch_size, seq_length, embed_dim]\n",
        "\n",
        "        # Process embeddings through the LSTM\n",
        "        output, (hidden, cell) = self.lstm(embedded)\n",
        "\n",
        "        # Extract the final hidden state from the last LSTM layer\n",
        "        hidden_last = hidden[-1]  # Take the last layer's hidden state, shape: [batch_size, hidden_dim]\n",
        "\n",
        "        # Map hidden state to output using the fully connected layer\n",
        "        logits = self.fc(hidden_last)  # [batch_size, output_dim]\n",
        "\n",
        "        # Apply Sigmoid activation and return the squeezed output\n",
        "        return self.sigmoid(logits).squeeze(1)  # [batch_size]\n"
      ]
    },
    {
      "cell_type": "markdown",
      "metadata": {
        "id": "_oU91KYOifVO"
      },
      "source": [
        "## Task 3: Training and evaluating your model (2 points)"
      ]
    },
    {
      "cell_type": "code",
      "execution_count": 23,
      "metadata": {
        "id": "XhczzoL2ifVO"
      },
      "outputs": [],
      "source": [
        "def train_and_evaluate():\n",
        "    # Define the device (e.g., \"cuda\")\n",
        "    device = torch.device(\"cuda\" if torch.cuda.is_available() else \"cpu\")\n",
        "\n",
        "    # Use the vocabulary built in the Data Preprocessing section.\n",
        "    vocab_size = len(vocab)\n",
        "    embed_dim = 100        # You can choose a value (e.g., 100)\n",
        "    hidden_dim = 128       # You can choose a value (e.g., 128)\n",
        "    output_dim = 1         # For binary classification, output dimension is 1\n",
        "    num_layers = 1         # Number of LSTM layers, e.g., 1\n",
        "    padding_idx = vocab['<pad>']\n",
        "\n",
        "    # Build your RNN classifier using the RNNClassifier class.\n",
        "    model = RNNClassifier(vocab_size, embed_dim, hidden_dim, output_dim, num_layers, padding_idx)\n",
        "    model = model.to(device)\n",
        "\n",
        "    # Define your loss function (Binary Cross-Entropy for binary classification).\n",
        "    criterion = nn.BCELoss()\n",
        "\n",
        "    # Define your optimizer with a chosen learning rate.\n",
        "    optimizer = torch.optim.Adam(model.parameters(), lr=0.001)\n",
        "\n",
        "    # Set the number of epochs for training.\n",
        "    num_epochs = 10  # You can adjust the number of epochs.\n",
        "\n",
        "    for epoch in range(num_epochs):\n",
        "        model.train()  # Set the model to training mode.\n",
        "\n",
        "        epoch_loss = 0.0  # Initialize epoch loss.\n",
        "\n",
        "        # Iterate over batches in your training DataLoader.\n",
        "        for batch_idx, (text_batch, label_batch) in enumerate(train_loader):\n",
        "            # Move text_batch and label_batch to the defined device.\n",
        "            text_batch, label_batch = text_batch.to(device), label_batch.to(device)\n",
        "\n",
        "            # Zero out the gradients.\n",
        "            optimizer.zero_grad()\n",
        "\n",
        "            # Perform a forward pass: obtain predictions from the model.\n",
        "            predictions = model(text_batch)\n",
        "\n",
        "            # Compute the loss using your criterion.\n",
        "            loss = criterion(predictions, label_batch.float())  # BCEWithLogitsLoss expects float labels\n",
        "\n",
        "            # Perform the backward pass to compute gradients.\n",
        "            loss.backward()\n",
        "\n",
        "            # Update the model parameters.\n",
        "            optimizer.step()\n",
        "\n",
        "            # Accumulate the loss for reporting.\n",
        "            epoch_loss += loss.item()\n",
        "\n",
        "        # Compute the average loss for the epoch and print it.\n",
        "        avg_loss = epoch_loss / len(train_loader)\n",
        "        print(f\"Epoch {epoch+1}/{num_epochs}, Loss: {avg_loss:.4f}\")\n",
        "\n",
        "    # -------------------------\n",
        "    # Evaluation on Sample Yelp Reviews\n",
        "    # -------------------------\n",
        "\n",
        "    # Define some sample Yelp reviews for evaluation.\n",
        "    sample_reviews = [\n",
        "        \"The food was amazing and the service was excellent!\",\n",
        "        \"I did not enjoy my visit at all. The experience was terrible.\",\n",
        "        \"The ambiance was pleasant but the food was just okay.\",\n",
        "        \"Absolutely loved the place! Will come back again.\"\n",
        "    ]\n",
        "\n",
        "    model.eval()  # Set the model to evaluation mode.\n",
        "\n",
        "    predictions = []  # Store the predictions for the sample reviews.\n",
        "    print(\"Evaluation on Sample Yelp Reviews:\")\n",
        "\n",
        "    for review in sample_reviews:\n",
        "        with torch.no_grad():\n",
        "            # Convert the review text to a tensor using your text_pipeline function.\n",
        "            review_tensor = torch.tensor(text_pipeline(review), dtype=torch.long).unsqueeze(0).to(device)\n",
        "\n",
        "            # Perform a forward pass to get the prediction.\n",
        "            prediction = model(review_tensor)\n",
        "\n",
        "            # Interpret the prediction\n",
        "            sentiment = \"Positive\" if prediction >= 0.5 else \"Negative\"\n",
        "\n",
        "            # Print the review and its predicted sentiment along with the prediction score.\n",
        "            print(f\"Review: {review}\\nPredicted Sentiment: {sentiment} (Score: {prediction.item():.4f})\\n\")\n",
        "\n",
        "            # Append the prediction score (as a float) to the predictions list.\n",
        "            predictions.append(prediction.item())\n",
        "\n",
        "    # Return a dictionary with keys \"avg_loss\" and \"predictions\".\n",
        "    return {\"avg_loss\": avg_loss, \"predictions\": predictions}\n"
      ]
    },
    {
      "cell_type": "code",
      "source": [
        "train_and_evaluate()"
      ],
      "metadata": {
        "colab": {
          "base_uri": "https://localhost:8080/"
        },
        "id": "7D45M6jTrqZd",
        "outputId": "57bfed95-1ac8-47ef-c0fe-fa8061a34cc8"
      },
      "execution_count": 15,
      "outputs": [
        {
          "output_type": "stream",
          "name": "stdout",
          "text": [
            "Epoch 1/10, Loss: 0.6937\n",
            "Epoch 2/10, Loss: 0.6931\n",
            "Epoch 3/10, Loss: 0.6931\n",
            "Epoch 4/10, Loss: 0.6931\n",
            "Epoch 5/10, Loss: 0.6931\n",
            "Epoch 6/10, Loss: 0.6931\n",
            "Epoch 7/10, Loss: 0.6931\n",
            "Epoch 8/10, Loss: 0.6931\n",
            "Epoch 9/10, Loss: 0.6931\n",
            "Epoch 10/10, Loss: 0.6931\n",
            "Evaluation on Sample Yelp Reviews:\n",
            "Review: The food was amazing and the service was excellent!\n",
            "Predicted Sentiment: Negative (Score: 0.0000)\n",
            "\n",
            "Review: I did not enjoy my visit at all. The experience was terrible.\n",
            "Predicted Sentiment: Negative (Score: 0.0000)\n",
            "\n",
            "Review: The ambiance was pleasant but the food was just okay.\n",
            "Predicted Sentiment: Negative (Score: 0.0000)\n",
            "\n",
            "Review: Absolutely loved the place! Will come back again.\n",
            "Predicted Sentiment: Negative (Score: 0.0000)\n",
            "\n"
          ]
        },
        {
          "output_type": "execute_result",
          "data": {
            "text/plain": [
              "{'avg_loss': 0.6931471824645996,\n",
              " 'predictions': [6.612334146893772e-08,\n",
              "  1.6811910086289572e-08,\n",
              "  4.1958944763109685e-08,\n",
              "  2.1864059362997068e-07]}"
            ]
          },
          "metadata": {},
          "execution_count": 15
        }
      ]
    },
    {
      "cell_type": "markdown",
      "metadata": {
        "id": "w1loJkEOifVP"
      },
      "source": [
        "## Task 4: Q&A Section (3 points)\n",
        "\n",
        "Please answer the questions below in brief. Each carries 1 point. This section is also open-book i.e., you can refer documentation to inform your response.\n"
      ]
    },
    {
      "cell_type": "markdown",
      "metadata": {
        "id": "l0kj4N0XifVP"
      },
      "source": [
        "**Question 1:**  \n",
        "What is the purpose of specifying a `padding_idx` in the Embedding layer, and how does it affect the model's training and output?"
      ]
    },
    {
      "cell_type": "markdown",
      "metadata": {
        "id": "9d9Y0xsiifVP"
      },
      "source": [
        "<font color='red'>*Your Answer:* </font>"
      ]
    },
    {
      "cell_type": "markdown",
      "metadata": {
        "id": "w-kx9tAtifVP"
      },
      "source": [
        "> It tells the embedding layer to ignore padding tokens during training. It prevents the model from learning meaningless representation for padding tokens, preventing them from affecting predictions\n",
        ""
      ]
    },
    {
      "cell_type": "markdown",
      "metadata": {
        "id": "vswUKWQSifVP"
      },
      "source": [
        "**Question 2:**  \n",
        "Why do we use the final hidden state from the LSTM for classification? How does this hidden state encapsulate the overall information of the input sequence in the context of sentiment analysis?"
      ]
    },
    {
      "cell_type": "markdown",
      "metadata": {
        "id": "FSFprh_mifVP"
      },
      "source": [
        "<font color='red'>*Your Answer:* </font>"
      ]
    },
    {
      "cell_type": "markdown",
      "metadata": {
        "id": "VeFFLxC2ifVP"
      },
      "source": [
        "> LSTMs process text word by word in order. At each step, the LSTM updates its hidden state, based on the current word and previous context. The final hidden state is an aggregated summary of the entire text sequence."
      ]
    },
    {
      "cell_type": "markdown",
      "metadata": {
        "id": "Q0R7-eFbifVQ"
      },
      "source": [
        "**Question 3:**  \n",
        "What is the role of the Sigmoid activation in this binary classification model? How might this change if you were working on a multi-class classification task? (think of other activation functions)"
      ]
    },
    {
      "cell_type": "markdown",
      "metadata": {
        "id": "LTc-amZpifVQ"
      },
      "source": [
        "<font color='red'>*Your Answer:* </font>"
      ]
    },
    {
      "cell_type": "markdown",
      "metadata": {
        "id": "e8vS0MM3ifVQ"
      },
      "source": [
        "> The role of the sigmoid activation is to convert logits into probablity like outputs between 0 and 1 in the final layer. Sigmoid wouldnt be suitable for multi class as it outputs single probability, instead of multiple class probabilities that sum to 1. A more suitable activation function would be softmax."
      ]
    },
    {
      "cell_type": "markdown",
      "metadata": {
        "id": "NBSOUDgqifVQ"
      },
      "source": [
        "---\n",
        "# Autograder section.\n",
        "\n",
        "After you finish your code implementation, please run this part of the notebook to see your score for the coding section (6 points)."
      ]
    },
    {
      "cell_type": "code",
      "execution_count": 24,
      "metadata": {
        "colab": {
          "base_uri": "https://localhost:8080/"
        },
        "id": "L__LUVsdifVQ",
        "outputId": "d03cfef7-44f7-491e-8016-3b9d18b2cfc9"
      },
      "outputs": [
        {
          "output_type": "stream",
          "name": "stdout",
          "text": [
            "Data Preprocessing Test: Passed (2 points)\n",
            "RNN Implementation Test: Passed (2 points)\n",
            "Epoch 1/10, Loss: 0.6875\n",
            "Epoch 2/10, Loss: 0.6823\n",
            "Epoch 3/10, Loss: 0.6690\n",
            "Epoch 4/10, Loss: 0.6564\n",
            "Epoch 5/10, Loss: 0.6504\n",
            "Epoch 6/10, Loss: 0.6115\n",
            "Epoch 7/10, Loss: 0.5681\n",
            "Epoch 8/10, Loss: 0.5693\n",
            "Epoch 9/10, Loss: 0.5578\n",
            "Epoch 10/10, Loss: 0.5485\n",
            "Evaluation on Sample Yelp Reviews:\n",
            "Review: The food was amazing and the service was excellent!\n",
            "Predicted Sentiment: Negative (Score: 0.1631)\n",
            "\n",
            "Review: I did not enjoy my visit at all. The experience was terrible.\n",
            "Predicted Sentiment: Negative (Score: 0.1588)\n",
            "\n",
            "Review: The ambiance was pleasant but the food was just okay.\n",
            "Predicted Sentiment: Negative (Score: 0.0235)\n",
            "\n",
            "Review: Absolutely loved the place! Will come back again.\n",
            "Predicted Sentiment: Positive (Score: 0.9381)\n",
            "\n",
            "Training & Evaluation Test: Failed - Expected sentiment 'Positive' but got 'Negative'.\n",
            "Total Code Score: 4 / 6\n"
          ]
        }
      ],
      "source": [
        "# ================================\n",
        "# Pytest Code Cells for Evaluation\n",
        "# ================================\n",
        "\n",
        "def run_tests_and_accumulate_score():\n",
        "    score = 0\n",
        "    total = 6  # Total code points available: 2 + 2 + 2\n",
        "\n",
        "    # ------------------------------\n",
        "    # Part 1: Data Preprocessing (2 points)\n",
        "    # ------------------------------\n",
        "    try:\n",
        "        # Test that tokenizer is defined and callable.\n",
        "        assert tokenizer is not None, \"Tokenizer is not defined.\"\n",
        "        assert callable(tokenizer), \"Tokenizer is not callable.\"\n",
        "\n",
        "        # Test that yield_tokens is implemented.\n",
        "        assert callable(yield_tokens), \"yield_tokens function is not defined or callable.\"\n",
        "\n",
        "        # Test that train_list is loaded and non-empty.\n",
        "        assert len(train_list) > 0, \"train_list appears to be empty.\"\n",
        "\n",
        "        # Test that vocab is defined and includes the '<pad>' token.\n",
        "        assert vocab is not None, \"vocab is not defined.\"\n",
        "        itos = vocab.get_itos() if hasattr(vocab, \"get_itos\") else []\n",
        "        assert '<pad>' in itos, \"vocab does not contain the '<pad>' token.\"\n",
        "\n",
        "        # Test text_pipeline: it should return a list of integers.\n",
        "        sample_text = \"this is a test\"\n",
        "        token_ids = text_pipeline(sample_text)\n",
        "        assert isinstance(token_ids, list), \"text_pipeline should return a list.\"\n",
        "        for tid in token_ids:\n",
        "            assert isinstance(tid, int), \"Each token ID from text_pipeline should be an integer.\"\n",
        "\n",
        "        # Test label_pipeline: check that it converts labels (e.g., \"positive\") to an integer.\n",
        "        sample_label = \"positive\"\n",
        "        label_int = label_pipeline(sample_label)\n",
        "        assert isinstance(label_int, int), \"label_pipeline should return an integer.\"\n",
        "\n",
        "        # Optionally, test that the Dataset and DataLoader work.\n",
        "        dataset = YelpDataset(train_list)\n",
        "        # Ensure __len__ and __getitem__ work.\n",
        "        assert len(dataset) > 0, \"Dataset __len__ returned zero.\"\n",
        "        sample_item = dataset[0]\n",
        "        assert isinstance(sample_item, tuple) and len(sample_item) == 2, \"Dataset __getitem__ should return a tuple (text_tensor, label).\"\n",
        "        # Test collate_batch by creating a mini-batch.\n",
        "        batch = [dataset[i] for i in range(min(3, len(dataset)))]\n",
        "        collated = collate_batch(batch)\n",
        "        assert isinstance(collated, tuple) and len(collated) == 2, \"collate_batch should return a tuple (padded_texts, labels).\"\n",
        "\n",
        "        score += 2\n",
        "        print(\"Data Preprocessing Test: Passed (2 points)\")\n",
        "    except AssertionError as e:\n",
        "        print(\"Data Preprocessing Test: Failed -\", e)\n",
        "\n",
        "    # ------------------------------\n",
        "    # Part 2: RNN Implementation (2 points)\n",
        "    # ------------------------------\n",
        "    try:\n",
        "        # Use arbitrary parameters for testing.\n",
        "        test_vocab_size = 2000\n",
        "        test_embed_dim = 50\n",
        "        test_hidden_dim = 64\n",
        "        test_output_dim = 1\n",
        "        test_num_layers = 1\n",
        "        test_padding_idx = 0\n",
        "\n",
        "        model = RNNClassifier(test_vocab_size, test_embed_dim, test_hidden_dim, test_output_dim, test_num_layers, test_padding_idx)\n",
        "        assert isinstance(model, nn.Module), \"Model is not an instance of nn.Module.\"\n",
        "        # Verify required layers exist.\n",
        "        assert hasattr(model, \"embedding\"), \"Model is missing an embedding layer.\"\n",
        "        assert hasattr(model, \"lstm\"), \"Model is missing an LSTM layer.\"\n",
        "        assert hasattr(model, \"fc\"), \"Model is missing a fully connected layer.\"\n",
        "\n",
        "        # Test a forward pass using dummy input.\n",
        "        dummy_input = torch.randint(0, test_vocab_size, (4, 10))  # Batch size of 4, sequence length of 10.\n",
        "        output = model(dummy_input)\n",
        "        # Expect output to be 1D with length equal to batch size.\n",
        "        assert output.dim() == 1, \"Output of forward pass should be 1D.\"\n",
        "        assert output.shape[0] == 4, f\"Output batch size expected 4 but got {output.shape[0]}.\"\n",
        "\n",
        "        score += 2\n",
        "        print(\"RNN Implementation Test: Passed (2 points)\")\n",
        "    except AssertionError as e:\n",
        "        print(\"RNN Implementation Test: Failed -\", e)\n",
        "\n",
        "    # ------------------------------\n",
        "    # Part 3: Training & Evaluation (2 points)\n",
        "    # ------------------------------\n",
        "    try:\n",
        "        # Check that a function train_and_evaluate() is defined.\n",
        "        assert callable(train_and_evaluate), \"train_and_evaluate() function is not defined or callable.\"\n",
        "\n",
        "        # Call the function and capture its output.\n",
        "        results = train_and_evaluate()\n",
        "        # Expect results to be a dictionary containing at least 'predictions' and 'avg_loss'.\n",
        "        assert isinstance(results, dict), \"train_and_evaluate() should return a dictionary.\"\n",
        "        assert \"predictions\" in results, \"Results should contain the key 'predictions'.\"\n",
        "        assert \"avg_loss\" in results, \"Results should contain the key 'avg_loss'.\"\n",
        "        # Check that predictions is a list and contains 4 elements (one for each sample review).\n",
        "        predictions = results[\"predictions\"]\n",
        "        assert isinstance(predictions, list), \"'predictions' should be a list.\"\n",
        "        assert len(predictions) == 4, \"Expected 4 predictions for the sample reviews.\"\n",
        "\n",
        "        targetPreds = ['Positive', 'Negative', 'Negative', 'Positive']\n",
        "        for idx, pred in enumerate(predictions):\n",
        "            assert isinstance(pred, float), \"Each prediction should be a float.\"\n",
        "            assert 0.0 <= pred <= 1.0, \"Each prediction should be between 0 and 1.\"\n",
        "            sentiment = \"Positive\" if pred >= 0.5 else \"Negative\"\n",
        "            assert sentiment == targetPreds[idx], f\"Expected sentiment '{targetPreds[idx]}' but got '{sentiment}'.\"\n",
        "\n",
        "        score += 2\n",
        "        print(\"Training & Evaluation Test: Passed (2 points)\")\n",
        "    except AssertionError as e:\n",
        "        print(\"Training & Evaluation Test: Failed -\", e)\n",
        "\n",
        "    print(f\"Total Code Score: {score} / {total}\")\n",
        "\n",
        "# Run the custom test runner\n",
        "run_tests_and_accumulate_score()\n"
      ]
    }
  ],
  "metadata": {
    "colab": {
      "provenance": [],
      "gpuType": "T4"
    },
    "kernelspec": {
      "display_name": "Python 3",
      "name": "python3"
    },
    "language_info": {
      "codemirror_mode": {
        "name": "ipython",
        "version": 3
      },
      "file_extension": ".py",
      "mimetype": "text/x-python",
      "name": "python",
      "nbconvert_exporter": "python",
      "pygments_lexer": "ipython3",
      "version": "3.12.6"
    },
    "accelerator": "GPU"
  },
  "nbformat": 4,
  "nbformat_minor": 0
}